{
 "cells": [
  {
   "cell_type": "markdown",
   "id": "67cbdaec-3651-4cd9-bb15-a6bfbf04b242",
   "metadata": {},
   "source": [
    "## Sales Forecasting Machine Learning \n"
   ]
  },
  {
   "cell_type": "code",
   "execution_count": null,
   "id": "982d6c66-beda-454d-82fe-55f35f58b23b",
   "metadata": {},
   "outputs": [],
   "source": [
    "# import libraries\n",
    "import numpy as np # linear algebra\n",
    "import pandas as pd # data processing, CSV file I/O (e.g. pd.read_csv)\n",
    "import datetime as dt\n",
    "\n",
    "# data visualization libraries\n",
    "import matplotlib.pyplot as plt\n",
    "import matplotlib.colors as mcolors\n",
    "import seaborn as sns\n",
    "\n",
    "from operator import attrgetter\n",
    "\n",
    "# machine learning libraries\n",
    "from sklearn.preprocessing import StandardScaler\n",
    "from sklearn.cluster import KMeans\n",
    "\n",
    "\n",
    "sales_df = pd.read_csv(r\"C:\\Users\\jki\\Desktop\\Data Scence Projects\\Sales Prediction\\Data\\sales.csv\", encoding='latin1')\n",
    "sales_df_df.head(5)"
   ]
  },
  {
   "cell_type": "code",
   "execution_count": null,
   "id": "d415714b-4515-427b-b801-66275d711e2f",
   "metadata": {},
   "outputs": [],
   "source": []
  }
 ],
 "metadata": {
  "kernelspec": {
   "display_name": "Python 3 (ipykernel)",
   "language": "python",
   "name": "python3"
  },
  "language_info": {
   "codemirror_mode": {
    "name": "ipython",
    "version": 3
   },
   "file_extension": ".py",
   "mimetype": "text/x-python",
   "name": "python",
   "nbconvert_exporter": "python",
   "pygments_lexer": "ipython3",
   "version": "3.11.7"
  }
 },
 "nbformat": 4,
 "nbformat_minor": 5
}
